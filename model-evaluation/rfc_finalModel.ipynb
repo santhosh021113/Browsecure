{
  "nbformat": 4,
  "nbformat_minor": 0,
  "metadata": {
    "colab": {
      "provenance": []
    },
    "kernelspec": {
      "name": "python3",
      "display_name": "Python 3"
    },
    "language_info": {
      "name": "python"
    }
  },
  "cells": [
    {
      "cell_type": "code",
      "source": [
        "import pandas as pd\n",
        "from sklearn.ensemble import RandomForestClassifier\n",
        "from sklearn.metrics import accuracy_score\n",
        "from sklearn.model_selection import train_test_split\n",
        "import requests"
      ],
      "metadata": {
        "id": "QLZq-LUutRNO"
      },
      "execution_count": 21,
      "outputs": []
    },
    {
      "cell_type": "code",
      "source": [
        "dataset = pd.read_csv(\"/content/uci-ml-phishing-dataset.csv\")\n",
        "dataset = dataset.drop('id', axis=1)  "
      ],
      "metadata": {
        "id": "GVxFhFjBtjQg"
      },
      "execution_count": 22,
      "outputs": []
    },
    {
      "cell_type": "code",
      "source": [
        "x = dataset.drop('Result', axis=1).values  \n",
        "y = dataset['Result'].values  \n",
        "\n",
        "\n",
        "x_train, x_test, y_train, y_test = train_test_split(x, y, test_size=0.2, random_state=42)"
      ],
      "metadata": {
        "id": "9uO9eU8Qtw1t"
      },
      "execution_count": 23,
      "outputs": []
    },
    {
      "cell_type": "code",
      "source": [
        "classifier = RandomForestClassifier(n_estimators=100, random_state=0)\n",
        "classifier.fit(x_train, y_train)\n",
        "\n",
        "# Training accuracy\n",
        "y_pred_train = classifier.predict(x_train)\n",
        "accuracy_train = accuracy_score(y_train, y_pred_train)\n",
        "print(\"Training Accuracy:\", accuracy_train)\n",
        "\n",
        "# Testing accuracy\n",
        "y_pred_test = classifier.predict(x_test)\n",
        "accuracy_test = accuracy_score(y_test, y_pred_test)\n",
        "print(\"Testing Accuracy:\", accuracy_test)"
      ],
      "metadata": {
        "colab": {
          "base_uri": "https://localhost:8080/"
        },
        "id": "RApBVfbFt1jI",
        "outputId": "9bc8d82b-9120-4e51-cf70-d658356ed394"
      },
      "execution_count": 24,
      "outputs": [
        {
          "output_type": "stream",
          "name": "stdout",
          "text": [
            "Training Accuracy: 0.9906151062867481\n",
            "Testing Accuracy: 0.9665309814563546\n"
          ]
        }
      ]
    },
    {
      "cell_type": "code",
      "source": [
        "def extract_features(url):\n",
        "    try:\n",
        "        response = requests.get(url)\n",
        "        if response.status_code == 200:\n",
        "            features = [\n",
        "                url.count('-'),\n",
        "                url.count('@'),\n",
        "                url.count('//'),\n",
        "                url.count('.'),\n",
        "                len(url),\n",
        "                url.startswith('https://'),\n",
        "                url.startswith('http://'),\n",
        "                url.count('?'),\n",
        "                url.count('='),\n",
        "                url.count('.com'),\n",
        "                url.count('-'),\n",
        "                url.count('.'),\n",
        "                url.count('www.'),\n",
        "                url.count('https'),\n",
        "                url.count('http'),\n",
        "                url.count('//'),\n",
        "                url.count('.com'),\n",
        "                url.count('.org'),\n",
        "                url.count('.net'),\n",
        "                url.count('.info'),\n",
        "                url.count('.biz'),\n",
        "                url.count('.gov'),\n",
        "                url.count('.edu'),\n",
        "                url.count('.mil'),\n",
        "                url.count('.int'),\n",
        "                url.count('.eu'),\n",
        "                url.count('.tv'),\n",
        "                url.count('.us'),\n",
        "                url.count('.cc'),\n",
        "                url.count('.name')\n",
        "            ]\n",
        "            return features\n",
        "    except requests.exceptions.RequestException:\n",
        "        pass\n",
        "    return None"
      ],
      "metadata": {
        "id": "PctmYgaLuICu"
      },
      "execution_count": 25,
      "outputs": []
    },
    {
      "cell_type": "code",
      "source": [
        "urls = [\n",
        "    'https://www.google.com/',\n",
        "    'http://www.google.com.test-security.tk/',\n",
        "    'https://www.paypal.com/signin',\n",
        "    'https://www.paypai.com/signin',\n",
        "    'https://github.com/Santhoshnov/Browsecure',\n",
        "    'https://gethub.com/Santhoshnov/Browsecure'\n",
        "    ]"
      ],
      "metadata": {
        "id": "QzrtJxBvuQaP"
      },
      "execution_count": 26,
      "outputs": []
    },
    {
      "cell_type": "code",
      "source": [
        "# Predict the URLs\n",
        "for url in urls:\n",
        "    features = extract_features(url)\n",
        "    if features is None:\n",
        "        print(f\"{url}: Phishing\")\n",
        "    else:\n",
        "        prediction = classifier.predict([features])[0]\n",
        "        result = 'Legitimate' if prediction == 1 else 'Phishing'\n",
        "        print(f\"{url}: {result}\")\n",
        "\n",
        "\n",
        "y_pred_test = classifier.predict(x_test)\n",
        "accuracy_test = accuracy_score(y_test, y_pred_test)\n",
        "print(\"Testing Accuracy:\", accuracy_test)"
      ],
      "metadata": {
        "colab": {
          "base_uri": "https://localhost:8080/"
        },
        "id": "mpMiwQqTuWZI",
        "outputId": "26d88fac-8070-40c7-ae00-1afc403bc84f"
      },
      "execution_count": 27,
      "outputs": [
        {
          "output_type": "stream",
          "name": "stdout",
          "text": [
            "https://www.google.com/: Legitimate\n",
            "http://www.google.com.test-security.tk/: Phishing\n",
            "https://www.paypal.com/signin: Legitimate\n",
            "https://www.paypai.com/signin: Phishing\n",
            "https://github.com/Santhoshnov/Browsecure: Legitimate\n",
            "https://gethub.com/Santhoshnov/Browsecure: Phishing\n",
            "Testing Accuracy: 0.9665309814563546\n"
          ]
        }
      ]
    }
  ]
}